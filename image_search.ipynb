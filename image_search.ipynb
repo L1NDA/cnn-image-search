{
 "cells": [
  {
   "cell_type": "code",
   "execution_count": null,
   "metadata": {},
   "outputs": [],
   "source": [
    "from keras import applications\n",
    "import matplotlib.pyplot as plt\n",
    "\n",
    "%matplotlib inline\n",
    "\n",
    "import random\n",
    "import time\n",
    "\n",
    "random.seed(time.time())"
   ]
  },
  {
   "cell_type": "code",
   "execution_count": null,
   "metadata": {
    "collapsed": true
   },
   "outputs": [],
   "source": [
    "# load trained vgg 16\n",
    "pretrained_vgg_16 = applications.VGG16(weights='imagenet', include_top = True)"
   ]
  },
  {
   "cell_type": "code",
   "execution_count": null,
   "metadata": {
    "collapsed": true
   },
   "outputs": [],
   "source": [
    "from keras.models import Model\n",
    "\n",
    "# found with pretrained_vgg_16.layers[-2].get_config()\n",
    "layer_name = 'fc2'\n",
    "\n",
    "# get penultimate activation layer (relu activation layer)\n",
    "intermediate_layer_model = Model(inputs = pretrained_vgg_16.input, outputs = pretrained_vgg_16.get_layer(layer_name).output)"
   ]
  },
  {
   "cell_type": "code",
   "execution_count": null,
   "metadata": {
    "collapsed": true
   },
   "outputs": [],
   "source": [
    "import os\n",
    "\n",
    "# create list of all the image paths to add to the database\n",
    "folder = \"/Users/l1nda/desktop/images/\"\n",
    "image_list = []\n",
    "\n",
    "folder_list = os.listdir(folder)\n",
    "for image_name in folder_list:\n",
    "    image_path = os.path.join(folder, image_name)\n",
    "    image_list.append(image_path)"
   ]
  },
  {
   "cell_type": "code",
   "execution_count": null,
   "metadata": {},
   "outputs": [],
   "source": [
    "import cv2\n",
    "\n",
    "feature_list = []\n",
    "images_database = []\n",
    "\n",
    "# list comprehension to only get jpgs\n",
    "image_list = [image_name for image_name in image_list if image_name.endswith(\"jpg\") or image_name.endswith(\"jpeg\") or image_name.endswith(\"JPG\")]\n",
    "\n",
    "for image in image_list:\n",
    "    # read image\n",
    "    image = cv2.imread(image)\n",
    "    # convert from bgr to rgb\n",
    "    image = cv2.cvtColor(image, cv2.COLOR_BGR2RGB)\n",
    "    # add image to image list\n",
    "    images_database.append(image)\n",
    "    # resize for VGG\n",
    "    image = cv2.resize(image, (224, 224))\n",
    "    \n",
    "    # add dummy dimension\n",
    "    image = image[None]\n",
    "    # extract feature vec for each image\n",
    "    feature_vec = intermediate_layer_model.predict(image)\n",
    "    # concat vector to one big list\n",
    "    feature_list.append(feature_vec.ravel())"
   ]
  },
  {
   "cell_type": "code",
   "execution_count": null,
   "metadata": {},
   "outputs": [],
   "source": [
    "# turn list into an array to run nearest neighbors on database\n",
    "\n",
    "import numpy as np\n",
    "np.array(feature_list).shape"
   ]
  },
  {
   "cell_type": "code",
   "execution_count": null,
   "metadata": {},
   "outputs": [],
   "source": [
    "from sklearn.neighbors import NearestNeighbors\n",
    "\n",
    "# get the 3 nearest neighbors (as 0 is the image itself)\n",
    "neighbors = NearestNeighbors(n_neighbors=4)\n",
    "\n",
    "# \"train data\" (organizes NN data to make querying faster)\n",
    "neighbors.fit(feature_list)"
   ]
  },
  {
   "cell_type": "code",
   "execution_count": null,
   "metadata": {},
   "outputs": [],
   "source": [
    "# create random number image to compare\n",
    "image_wanted = random.randint(0, len(feature_list))\n",
    "\n",
    "# query feature list for the image\n",
    "query_vec = feature_list[image_wanted] \n",
    "distances, indices = neighbors.kneighbors(query_vec[None])\n",
    "\n",
    "# plot the image itself and its three nearest neighbors\n",
    "fig = plt.figure()\n",
    "for i in range(4):\n",
    "    plot = plt.subplot(1, 4, i+1)\n",
    "    plt.imshow(images_database[indices[0][i]])\n",
    "    plt.axis('off')\n",
    "    plot.set_title(image_list[indices[0][i]])\n",
    "\n",
    "# sets image size so that they fit horizontally in a row\n",
    "fig.set_size_inches(np.array(fig.get_size_inches()) * 4)\n",
    "plt.show()"
   ]
  }
 ],
 "metadata": {
  "kernelspec": {
   "display_name": "Python 3",
   "language": "python",
   "name": "python3"
  },
  "language_info": {
   "codemirror_mode": {
    "name": "ipython",
    "version": 3
   },
   "file_extension": ".py",
   "mimetype": "text/x-python",
   "name": "python",
   "nbconvert_exporter": "python",
   "pygments_lexer": "ipython3",
   "version": "3.6.3"
  }
 },
 "nbformat": 4,
 "nbformat_minor": 2
}
